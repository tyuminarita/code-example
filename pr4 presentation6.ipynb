{
  "nbformat": 4,
  "nbformat_minor": 0,
  "metadata": {
    "colab": {
      "provenance": [],
      "authorship_tag": "ABX9TyNlRSsMNUMyzFJ5crf41msP",
      "include_colab_link": true
    },
    "kernelspec": {
      "name": "python3",
      "display_name": "Python 3"
    },
    "language_info": {
      "name": "python"
    }
  },
  "cells": [
    {
      "cell_type": "markdown",
      "metadata": {
        "id": "view-in-github",
        "colab_type": "text"
      },
      "source": [
        "<a href=\"https://colab.research.google.com/github/tyuminarita/code-example/blob/main/pr4%20presentation6.ipynb\" target=\"_parent\"><img src=\"https://colab.research.google.com/assets/colab-badge.svg\" alt=\"Open In Colab\"/></a>"
      ]
    },
    {
      "cell_type": "code",
      "execution_count": 58,
      "metadata": {
        "colab": {
          "height": 507,
          "base_uri": "https://localhost:8080/"
        },
        "id": "C4HZx7Gndbrh",
        "outputId": "6bd234ec-ef54-4e8e-e81b-19ee64fea351"
      },
      "outputs": [
        {
          "output_type": "stream",
          "name": "stdout",
          "text": [
            "Точность сети: 95.25%\n"
          ]
        },
        {
          "output_type": "display_data",
          "data": {
            "text/plain": [
              "<Figure size 640x480 with 1 Axes>"
            ],
            "image/png": "[encoded data removed]"
          },
          "metadata": {}
        },
        {
          "output_type": "stream",
          "name": "stdout",
          "text": [
            "Предсказание сети: 6\n",
            "Правильная метка: 6\n"
          ]
        }
      ],
      "source": [
        "import numpy as np\n",
        "import pandas as pd\n",
        "import scipy.special\n",
        "import matplotlib.pyplot as plt\n",
        "import random  # <--- Для случайного выбора\n",
        "\n",
        "# Класс нейросети\n",
        "class neuralNetwork:\n",
        "    def __init__(self, inputnodes, hiddennodes, outputnodes, learningrate):\n",
        "        self.inodes = inputnodes\n",
        "        self.hnodes = hiddennodes\n",
        "        self.onodes = outputnodes\n",
        "\n",
        "        self.wih = np.random.normal(0.0, pow(self.hnodes, -0.5),\n",
        "                                    (self.hnodes, self.inodes))\n",
        "        self.who = np.random.normal(0.0, pow(self.onodes, -0.5),\n",
        "                                    (self.onodes, self.hnodes))\n",
        "\n",
        "        self.lr = learningrate\n",
        "        self.activation_function = lambda x: scipy.special.expit(x)\n",
        "\n",
        "    def train(self, inputs_list, targets_list):\n",
        "        inputs = np.array(inputs_list, ndmin=2).T\n",
        "        targets = np.array(targets_list, ndmin=2).T\n",
        "\n",
        "        hidden_inputs = np.dot(self.wih, inputs)\n",
        "        hidden_outputs = self.activation_function(hidden_inputs)\n",
        "\n",
        "        final_inputs = np.dot(self.who, hidden_outputs)\n",
        "        final_outputs = self.activation_function(final_inputs)\n",
        "\n",
        "        output_errors = targets - final_outputs\n",
        "        hidden_errors = np.dot(self.who.T, output_errors)\n",
        "\n",
        "        self.who += self.lr * np.dot((output_errors * final_outputs * (1 - final_outputs)),\n",
        "                                     hidden_outputs.T)\n",
        "        self.wih += self.lr * np.dot((hidden_errors * hidden_outputs * (1 - hidden_outputs)),\n",
        "                                     inputs.T)\n",
        "\n",
        "    def query(self, inputs_list):\n",
        "        inputs = np.array(inputs_list, ndmin=2).T\n",
        "        hidden_inputs = np.dot(self.wih, inputs)\n",
        "        hidden_outputs = self.activation_function(hidden_inputs)\n",
        "\n",
        "        final_inputs = np.dot(self.who, hidden_outputs)\n",
        "        final_outputs = self.activation_function(final_inputs)\n",
        "\n",
        "        return final_outputs\n",
        "\n",
        "# ===============================\n",
        "# Параметры сети и инициализация\n",
        "# ===============================\n",
        "input_nodes = 784\n",
        "hidden_nodes = 100\n",
        "output_nodes = 10\n",
        "learning_rate = 0.1\n",
        "\n",
        "nn = neuralNetwork(input_nodes, hidden_nodes, output_nodes, learning_rate)\n",
        "\n",
        "# ========================\n",
        "# Загрузка обучающих данных\n",
        "# ========================\n",
        "train_data = pd.read_csv('/content/mnist_train.csv', on_bad_lines='skip')\n",
        "\n",
        "for i in range(len(train_data)):\n",
        "    row = train_data.iloc[i].to_numpy()\n",
        "    label = int(row[0])\n",
        "    inputs = (row[1:] / 255.0 * 0.99) + 0.01\n",
        "    targets = np.zeros(output_nodes) + 0.01\n",
        "    targets[label] = 0.99\n",
        "    nn.train(inputs, targets)\n",
        "\n",
        "# ========================\n",
        "# Тестирование на тесте\n",
        "# ========================\n",
        "test_data = pd.read_csv('/content/mnist_test.csv', on_bad_lines='skip')\n",
        "scorecard = []\n",
        "\n",
        "for i in range(len(test_data)):\n",
        "    row = test_data.iloc[i].to_numpy()\n",
        "    correct_label = int(row[0])\n",
        "    inputs = (row[1:] / 255.0 * 0.99) + 0.01\n",
        "    outputs = nn.query(inputs)\n",
        "    label = np.argmax(outputs)\n",
        "    scorecard.append(1 if label == correct_label else 0)\n",
        "\n",
        "accuracy = np.mean(scorecard)\n",
        "print(f'Точность сети: {accuracy * 100:.2f}%')\n",
        "\n",
        "# ========================\n",
        "# === Вывод случайного изображения ===\n",
        "# ========================\n",
        "index = random.randint(0, len(test_data) - 1)\n",
        "sample = test_data.iloc[index].to_numpy()\n",
        "true_label = int(sample[0])\n",
        "image_data = sample[1:]\n",
        "\n",
        "# Показ изображения\n",
        "plt.imshow(image_data.reshape(28, 28), cmap='Greys', interpolation='None')\n",
        "plt.title(f\"Истинная метка: {true_label}\")\n",
        "plt.show()\n",
        "\n",
        "# Подготовка и предсказание\n",
        "inputs = (image_data / 255.0 * 0.99) + 0.01\n",
        "outputs = nn.query(inputs)\n",
        "predicted_label = np.argmax(outputs)\n",
        "\n",
        "print(f\"Предсказание сети: {predicted_label}\")\n",
        "print(f\"Правильная метка: {true_label}\")\n"
      ]
    }
  ]
}